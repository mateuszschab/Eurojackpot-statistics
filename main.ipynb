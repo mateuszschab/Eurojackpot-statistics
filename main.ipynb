{
 "cells": [
  {
   "cell_type": "code",
   "execution_count": 1,
   "metadata": {},
   "outputs": [],
   "source": [
    "import datetime as dt\n",
    "import random\n",
    "\n",
    "import numpy as np\n",
    "import pandas as pd\n",
    "import plotly.express as px"
   ]
  },
  {
   "cell_type": "code",
   "execution_count": 2,
   "metadata": {},
   "outputs": [],
   "source": [
    "def getData(source_data):\n",
    "    if(source_data=='from_file'):\n",
    "        data = pd.read_csv('result.csv', sep=';')\n",
    "    else:\n",
    "        data = pd.read_csv('https://www.multipasko.pl/wyniki-csv.php?f=euro-jackpot', sep=';')\n",
    "        \n",
    "    data = data.drop('Unnamed: 9', axis=1)\n",
    "    columns_name = ['id','day','month', 'year','N1','N2','N3','N4','N5','E1','E2']\n",
    "    data = data.set_axis(columns_name,axis=1, inplace=False)\n",
    "    data = data.astype({\"day\": str, \"month\": str, \"year\": str})\n",
    "    data['day'] = data['day'].str.zfill(2)\n",
    "    data['month'] = data['month'].str.zfill(2)\n",
    "    return data"
   ]
  },
  {
   "cell_type": "code",
   "execution_count": 3,
   "metadata": {},
   "outputs": [],
   "source": [
    "def frequencyNumber(data):\n",
    "    numbers = data.stack().reset_index(drop=True)\n",
    "    numbers_count = pd.DataFrame(numbers.value_counts(), columns=['Drawn Frequency'])\n",
    "    numbers_count.reset_index(inplace=True)\n",
    "    numbers_count.rename(columns = {'index':'Number'}, inplace = True)\n",
    "    return numbers_count"
   ]
  },
  {
   "cell_type": "code",
   "execution_count": 35,
   "metadata": {},
   "outputs": [],
   "source": [
    "def plotBar(data,x,y,color,legend):\n",
    "    fig = px.bar(data, x=x, y=y, color=color)\n",
    "    # fig.update_xaxes(type='category')\n",
    "\n",
    "    fig.update_layout(\n",
    "    title=legend[\"title\"],\n",
    "    xaxis_title=legend[\"x_label\"],\n",
    "    yaxis_title=legend[\"y_label\"],\n",
    "    font=dict(\n",
    "        family=\"Courier New, monospace\",\n",
    "        size=18,\n",
    "        color=\"RebeccaPurple\"\n",
    "    )\n",
    "    )\n",
    "\n",
    "    fig.show()"
   ]
  },
  {
   "cell_type": "code",
   "execution_count": 5,
   "metadata": {},
   "outputs": [],
   "source": [
    "def topNumbers(data,start_range,end_range,numbers_freq,top_num):\n",
    "    top_data = pd.DataFrame(numbers_freq.head(top_num))\n",
    "    top_list = list()\n",
    "    for i in range(len(top_data)):\n",
    "        filtr = (data.loc[:,start_range:end_range] == top_data['Number'][i])\n",
    "        filtr = filtr.sum(axis=1)\n",
    "        temp = data.drop(data[filtr == 0].index)\n",
    "        day = str(temp.day.iloc[-1])\n",
    "        month = str(temp.month.iloc[-1])\n",
    "        year = str(temp.year.iloc[-1])\n",
    "        top_list.append(day+\"/\"+month+\"/\"+year)\n",
    "\n",
    "    top_data['Last drawn date (D/M/Y)'] = pd.DataFrame(top_list)\n",
    "    time_ago = pd.to_datetime(top_data['Last drawn date (D/M/Y)'], format=\"%d/%m/%Y\")\n",
    "    time_ago = abs((time_ago - pd.Timestamp.today()).dt.days)\n",
    "    top_data['Days Ago'] = time_ago\n",
    "\n",
    "    top_data.index += 1\n",
    "    top_data.style.hide_index()\n",
    "    return top_data"
   ]
  },
  {
   "cell_type": "code",
   "execution_count": 6,
   "metadata": {},
   "outputs": [],
   "source": [
    "def mean_std(data,start_range,end_range):\n",
    "    sum_draw = data.loc[:,start_range:end_range].sum(axis=1)\n",
    "    sum_draw = pd.DataFrame(sum_draw.value_counts(), columns={'Frequency of sum'})\n",
    "    sum_draw.reset_index(inplace=True)\n",
    "    sum_draw.rename(columns = {'index':'Sum of numbers'}, inplace = True)\n",
    "    # sum_draw.plot.bar(figsize=(25,5), ylabel = 'Number of draws', xlabel = 'Number')\n",
    "    percent = list()\n",
    "    std = sum_draw['Sum of numbers'].std()\n",
    "    mean = sum_draw['Sum of numbers'].mean()\n",
    "    return [mean,std]"
   ]
  },
  {
   "cell_type": "code",
   "execution_count": 7,
   "metadata": {},
   "outputs": [],
   "source": [
    "def standardDeviation(data,start_range,end_range):\n",
    "    sum_draw = data.loc[:,start_range:end_range].sum(axis=1)\n",
    "    sum_draw = pd.DataFrame(sum_draw.value_counts(), columns={'Frequency of sum'})\n",
    "    sum_draw.reset_index(inplace=True)\n",
    "    sum_draw.rename(columns = {'index':'Sum of numbers'}, inplace = True)\n",
    "    # sum_draw.plot.bar(figsize=(25,5), ylabel = 'Number of draws', xlabel = 'Number')\n",
    "    percent = list()\n",
    "    std = sum_draw['Sum of numbers'].std()\n",
    "    mean = sum_draw['Sum of numbers'].mean()\n",
    "    for i in range(len(sum_draw)):\n",
    "        val = sum_draw.loc[i]['Sum of numbers']\n",
    "        if((val > (mean+std)) | (val < (mean-std))):\n",
    "            percent.append('> mean ± std')\n",
    "        else:\n",
    "            percent.append('mean ± std')\n",
    "\n",
    "    sum_draw['Std'] = pd.DataFrame(percent)\n",
    "    return sum_draw"
   ]
  },
  {
   "cell_type": "code",
   "execution_count": 8,
   "metadata": {},
   "outputs": [],
   "source": [
    "def numberEvenOdd(data,start_range,end_range):\n",
    "\n",
    "    data = data.loc[:,start_range:end_range]\n",
    "    width = len(data.columns)\n",
    "    col_names = list(data.columns)\n",
    "\n",
    "    even_count = [0] * len(data)\n",
    "    odd_count = [0] * len(data)\n",
    "\n",
    "    for n in range(width):\n",
    "        temp = list(data[col_names[n]])\n",
    "\n",
    "        for i in range(len(temp)):\n",
    "            if temp[i] % 2 == 0:\n",
    "                even_count[i] += 1\n",
    "            else:\n",
    "                odd_count[i] += 1\n",
    "    \n",
    "    even_odd = pd.DataFrame({'Even': even_count,'Odd':odd_count})\n",
    "    even_odd_count = pd.DataFrame(even_odd.value_counts(), columns={'Frequency'})\n",
    "    even_odd_count.reset_index(inplace=True)\n",
    "    return even_odd_count"
   ]
  },
  {
   "cell_type": "code",
   "execution_count": 9,
   "metadata": {},
   "outputs": [],
   "source": [
    "def multipleWins(data,start_range,end_range):\n",
    "    multi_win = pd.DataFrame(data.loc[:,start_range:end_range])\n",
    "    multi_win.style\n",
    "    multi_win_result = pd.DataFrame(multi_win.value_counts())\n",
    "    multi_win_result.reset_index(inplace=True)\n",
    "    col_names = list(multi_win_result.columns)\n",
    "    multi_win_result.rename(columns = {col_names[-1]:'Frequency'}, inplace = True)\n",
    "\n",
    "    \n",
    "    if(len(multi_win_result.loc[multi_win_result.Frequency > 1])>0):\n",
    "        return multi_win_result.loc[multi_win_result.Frequency > 1]\n",
    "    else:\n",
    "        return('NO DUPLICATED DRAW')\n",
    "\n"
   ]
  },
  {
   "cell_type": "code",
   "execution_count": 10,
   "metadata": {},
   "outputs": [],
   "source": [
    "def differencesNumbers(data,start_range,end_range):\n",
    "    data = data.loc[:,start_range:end_range]\n",
    "    width = len(data.columns)\n",
    "    col_names = list(data.columns)\n",
    "    diff_list = list()\n",
    "    for i in range(width-1):\n",
    "        \n",
    "        val = data[col_names[i+1]]-data[col_names[i]]\n",
    "        diff_list.append(val)\n",
    "    \n",
    "    diff_list = np.array(diff_list)\n",
    "    diff_list = diff_list.flatten()\n",
    "    result = pd.DataFrame(diff_list, columns={'Frequency'})\n",
    "    result = result[result['Frequency'] > 0]\n",
    "    return result\n",
    "    "
   ]
  },
  {
   "cell_type": "code",
   "execution_count": 11,
   "metadata": {},
   "outputs": [],
   "source": [
    "def redrawingNumbers(data,start_range,end_range):\n",
    "    data = data.loc[:,start_range:end_range]\n",
    "    width = len(data.columns)\n",
    "    col_names = list(data.columns)\n",
    "\n",
    "    result_list = list()\n",
    "    for r in range(len(data)):\n",
    "        for c in range(width):\n",
    "            number = data.iloc[r,c]\n",
    "\n",
    "            i=r\n",
    "            while(i<(len(data)-1)):\n",
    "                i = i+1\n",
    "\n",
    "                if(any(number==data.iloc[i,:])):\n",
    "                    diff = i - r\n",
    "                    result_list.append(diff)\n",
    "                    break\n",
    "                else:\n",
    "                    continue\n",
    "                \n",
    "                    \n",
    "    return pd.DataFrame(result_list)\n"
   ]
  },
  {
   "cell_type": "code",
   "execution_count": 12,
   "metadata": {},
   "outputs": [],
   "source": [
    "def randomStatisticalGenerator(data,start_range,end_range,top_numbers,std_differences,even_odds,number_ticket,numbers,uniqe,save):\n",
    "\n",
    "    columns_name = np.arange(1,numbers+1)\n",
    "    df = pd.DataFrame(columns=columns_name)\n",
    "\n",
    "    diff_max = np.percentile(std_differences_numbers['Frequency of sum'],20)\n",
    "    diff_max = list(std_differences_numbers.loc[std_differences_numbers['Frequency of sum'] > diff_max]['Sum of numbers'])\n",
    "    mean_std_numbers = mean_std(data,start_range,end_range) \n",
    "\n",
    "    sum_max = mean_std_numbers[0] + mean_std_numbers[1]\n",
    "    sum_min = mean_std_numbers[0] - mean_std_numbers[1]\n",
    "\n",
    "    even_odds_threshold = 0.2\n",
    "    even_odds = even_odds[even_odds['Frequency'].max() * even_odds < even_odds['Frequency']]\n",
    "            \n",
    "    freq = top_numbers['Days Ago']\n",
    "    low_weight = 1\n",
    "    hight_weight = 1.05\n",
    "    step = (hight_weight-low_weight) / (max(freq)-min(freq))\n",
    "    list_weights = list(freq * step +1)\n",
    "    list_number = list(top_numbers['Number'])\n",
    "\n",
    "    i = 0\n",
    "    while(i<number_ticket):\n",
    "        random_list = list()\n",
    "        random_list = random.choices(list_number, list_weights, k=numbers)\n",
    "        lenght = len(np.unique(random_list))\n",
    "        \n",
    "        if(lenght==numbers):\n",
    "            random_list.sort()\n",
    "            shift_list = list(random_list)\n",
    "            shift_list.pop(0)\n",
    "            diff = np.subtract(shift_list, random_list[:-1])\n",
    "            \n",
    "            if(all(item in diff_max for item in diff)):\n",
    "                random_list_sum = sum(random_list)\n",
    "\n",
    "\n",
    "                if((random_list_sum < sum_max) & (random_list_sum > sum_min)):\n",
    "\n",
    "                    even_count = 0\n",
    "                    odd_count = 0\n",
    "                    for num in random_list:\n",
    "                        if num % 2 == 0:\n",
    "                            even_count += 1\n",
    "                        else:\n",
    "                            odd_count += 1\n",
    "                    if(any(numbers_even_odds['Even']==even_count) & any(numbers_even_odds['Odd']==odd_count)):\n",
    "                        i += 1\n",
    "                        df.loc[len(df)] = random_list\n",
    "                        # if(i%(number_ticket*0.2)==0):\n",
    "                        #     print(i,'/',number_ticket)\n",
    "\n",
    "    return df"
   ]
  },
  {
   "cell_type": "code",
   "execution_count": 13,
   "metadata": {},
   "outputs": [],
   "source": [
    "def testGenerated(data,winnig_numbers,start_range,end_range):\n",
    "\n",
    "    winnig_numbers = winnig_numbers.loc[:,start_range:end_range]\n",
    "    width = len(winnig_numbers.columns)\n",
    "    col_names = list(winnig_numbers.columns)\n",
    "    \n",
    "    for i in range(width):\n",
    "        logical = (int(winnig_numbers[col_names[i]]) == data)\n",
    "        if(i==0):\n",
    "            result = logical\n",
    "        else:\n",
    "            result = result | logical\n",
    "\n",
    "    \n",
    "    return list(result.sum(axis=1))"
   ]
  },
  {
   "cell_type": "code",
   "execution_count": 50,
   "metadata": {},
   "outputs": [],
   "source": [
    "def averagePrize(number,euro_numbers):\n",
    "    # Average prize all country - Dec. 2022\n",
    "    data = [[5, 2, 38515339], [5, 1, 860141], [5,0,136513],[4,2,4597],[4,1,253.13],\n",
    "    [4,0,111.59],[3,2,73.33],[3,1,19.06],[3,0,15.19],[2,2,21.12],[2,1,8.26],[1,2,10.59]]\n",
    "    \n",
    "    # win_degree = list(['5+2','5+1','5+0','4+2','4+1','4+0','3+2','3+1','3+0','2+2','2+1','1+2'])\n",
    "    # numbers_degree = list(11 * [0])\n",
    "\n",
    "    df = pd.DataFrame(data, columns=['Numbers', 'Euro_numbers', 'Prize'])\n",
    "    total_win = 0\n",
    "\n",
    "    generated_numbers = pd.DataFrame()\n",
    "    generated_numbers['Numbers'] = number\n",
    "    generated_numbers['Euro_numbers'] = euro_numbers\n",
    "    num_tickets = pd.DataFrame(generated_numbers.value_counts(ascending=True), columns=['Hits'])\n",
    "    num_tickets.reset_index(inplace=True)\n",
    "    # num_tickets.rename(columns = {'index':'Numbers + Euro'})\n",
    "\n",
    "    for i in range(len(generated_numbers)):\n",
    "        logical = (generated_numbers.iloc[i] == df)\n",
    "        win = df['Prize'].loc[(logical.Euro_numbers == True)&(logical.Numbers == True)]\n",
    "        # print(index((logical.Euro_numbers == True)&(logical.Numbers == True)))\n",
    "        if(len(win)>0):\n",
    "            win = float(win)\n",
    "            total_win = total_win + win\n",
    "\n",
    "    ticket_cost = len(generated_numbers) * 2\n",
    "\n",
    "    win_relative = total_win - ticket_cost\n",
    "\n",
    "    sum_arr = [[int(ticket_cost), int(total_win), int(win_relative)]]\n",
    "    summary = pd.DataFrame(sum_arr, columns=['Coupon price', 'Total winnings', 'Summary'])\n",
    "\n",
    "    return summary, num_tickets\n"
   ]
  },
  {
   "cell_type": "code",
   "execution_count": 15,
   "metadata": {},
   "outputs": [],
   "source": [
    "def randomGenerator(numbers, max_number, number_tickets):\n",
    "\n",
    "    columns_name = np.arange(1,numbers+1)\n",
    "    df = pd.DataFrame(columns=columns_name)\n",
    "\n",
    "    for i in range(number_tickets):\n",
    "\n",
    "        random_list = random.sample(range(1, max_number), numbers)\n",
    "        df.loc[len(df)] = random_list\n",
    "    return df"
   ]
  },
  {
   "attachments": {},
   "cell_type": "markdown",
   "metadata": {},
   "source": [
    "# MAIN"
   ]
  },
  {
   "cell_type": "code",
   "execution_count": 44,
   "metadata": {},
   "outputs": [
    {
     "data": {
      "application/vnd.plotly.v1+json": {
       "config": {
        "plotlyServerURL": "https://plot.ly"
       },
       "data": [
        {
         "alignmentgroup": "True",
         "hovertemplate": "Number=%{x}<br>Drawn Frequency=%{y}<extra></extra>",
         "legendgroup": "",
         "marker": {
          "color": "#636efa",
          "pattern": {
           "shape": ""
          }
         },
         "name": "",
         "offsetgroup": "",
         "orientation": "v",
         "showlegend": false,
         "textposition": "auto",
         "type": "bar",
         "x": [
          1,
          2,
          4,
          3,
          5,
          6,
          7,
          8,
          9,
          10,
          11,
          12,
          13,
          14,
          17,
          15,
          16,
          19,
          18,
          20,
          21,
          22,
          24,
          23,
          25,
          26,
          33,
          28,
          31,
          27,
          29,
          30,
          36,
          37,
          35,
          41,
          39,
          32,
          44,
          48,
          43,
          38,
          46,
          42,
          34,
          40,
          50,
          45,
          47,
          64,
          78,
          51,
          58,
          49
         ],
         "xaxis": "x",
         "y": [
          294,
          282,
          239,
          219,
          194,
          177,
          158,
          143,
          120,
          104,
          97,
          89,
          88,
          71,
          70,
          69,
          50,
          48,
          42,
          39,
          38,
          31,
          30,
          27,
          26,
          17,
          16,
          16,
          15,
          13,
          12,
          11,
          9,
          8,
          8,
          7,
          6,
          6,
          5,
          5,
          5,
          5,
          5,
          4,
          4,
          3,
          3,
          3,
          3,
          2,
          1,
          1,
          1,
          1
         ],
         "yaxis": "y"
        }
       ],
       "layout": {
        "barmode": "relative",
        "font": {
         "color": "RebeccaPurple",
         "family": "Courier New, monospace",
         "size": 18
        },
        "legend": {
         "tracegroupgap": 0
        },
        "margin": {
         "t": 60
        },
        "template": {
         "data": {
          "bar": [
           {
            "error_x": {
             "color": "#2a3f5f"
            },
            "error_y": {
             "color": "#2a3f5f"
            },
            "marker": {
             "line": {
              "color": "#E5ECF6",
              "width": 0.5
             },
             "pattern": {
              "fillmode": "overlay",
              "size": 10,
              "solidity": 0.2
             }
            },
            "type": "bar"
           }
          ],
          "barpolar": [
           {
            "marker": {
             "line": {
              "color": "#E5ECF6",
              "width": 0.5
             },
             "pattern": {
              "fillmode": "overlay",
              "size": 10,
              "solidity": 0.2
             }
            },
            "type": "barpolar"
           }
          ],
          "carpet": [
           {
            "aaxis": {
             "endlinecolor": "#2a3f5f",
             "gridcolor": "white",
             "linecolor": "white",
             "minorgridcolor": "white",
             "startlinecolor": "#2a3f5f"
            },
            "baxis": {
             "endlinecolor": "#2a3f5f",
             "gridcolor": "white",
             "linecolor": "white",
             "minorgridcolor": "white",
             "startlinecolor": "#2a3f5f"
            },
            "type": "carpet"
           }
          ],
          "choropleth": [
           {
            "colorbar": {
             "outlinewidth": 0,
             "ticks": ""
            },
            "type": "choropleth"
           }
          ],
          "contour": [
           {
            "colorbar": {
             "outlinewidth": 0,
             "ticks": ""
            },
            "colorscale": [
             [
              0,
              "#0d0887"
             ],
             [
              0.1111111111111111,
              "#46039f"
             ],
             [
              0.2222222222222222,
              "#7201a8"
             ],
             [
              0.3333333333333333,
              "#9c179e"
             ],
             [
              0.4444444444444444,
              "#bd3786"
             ],
             [
              0.5555555555555556,
              "#d8576b"
             ],
             [
              0.6666666666666666,
              "#ed7953"
             ],
             [
              0.7777777777777778,
              "#fb9f3a"
             ],
             [
              0.8888888888888888,
              "#fdca26"
             ],
             [
              1,
              "#f0f921"
             ]
            ],
            "type": "contour"
           }
          ],
          "contourcarpet": [
           {
            "colorbar": {
             "outlinewidth": 0,
             "ticks": ""
            },
            "type": "contourcarpet"
           }
          ],
          "heatmap": [
           {
            "colorbar": {
             "outlinewidth": 0,
             "ticks": ""
            },
            "colorscale": [
             [
              0,
              "#0d0887"
             ],
             [
              0.1111111111111111,
              "#46039f"
             ],
             [
              0.2222222222222222,
              "#7201a8"
             ],
             [
              0.3333333333333333,
              "#9c179e"
             ],
             [
              0.4444444444444444,
              "#bd3786"
             ],
             [
              0.5555555555555556,
              "#d8576b"
             ],
             [
              0.6666666666666666,
              "#ed7953"
             ],
             [
              0.7777777777777778,
              "#fb9f3a"
             ],
             [
              0.8888888888888888,
              "#fdca26"
             ],
             [
              1,
              "#f0f921"
             ]
            ],
            "type": "heatmap"
           }
          ],
          "heatmapgl": [
           {
            "colorbar": {
             "outlinewidth": 0,
             "ticks": ""
            },
            "colorscale": [
             [
              0,
              "#0d0887"
             ],
             [
              0.1111111111111111,
              "#46039f"
             ],
             [
              0.2222222222222222,
              "#7201a8"
             ],
             [
              0.3333333333333333,
              "#9c179e"
             ],
             [
              0.4444444444444444,
              "#bd3786"
             ],
             [
              0.5555555555555556,
              "#d8576b"
             ],
             [
              0.6666666666666666,
              "#ed7953"
             ],
             [
              0.7777777777777778,
              "#fb9f3a"
             ],
             [
              0.8888888888888888,
              "#fdca26"
             ],
             [
              1,
              "#f0f921"
             ]
            ],
            "type": "heatmapgl"
           }
          ],
          "histogram": [
           {
            "marker": {
             "pattern": {
              "fillmode": "overlay",
              "size": 10,
              "solidity": 0.2
             }
            },
            "type": "histogram"
           }
          ],
          "histogram2d": [
           {
            "colorbar": {
             "outlinewidth": 0,
             "ticks": ""
            },
            "colorscale": [
             [
              0,
              "#0d0887"
             ],
             [
              0.1111111111111111,
              "#46039f"
             ],
             [
              0.2222222222222222,
              "#7201a8"
             ],
             [
              0.3333333333333333,
              "#9c179e"
             ],
             [
              0.4444444444444444,
              "#bd3786"
             ],
             [
              0.5555555555555556,
              "#d8576b"
             ],
             [
              0.6666666666666666,
              "#ed7953"
             ],
             [
              0.7777777777777778,
              "#fb9f3a"
             ],
             [
              0.8888888888888888,
              "#fdca26"
             ],
             [
              1,
              "#f0f921"
             ]
            ],
            "type": "histogram2d"
           }
          ],
          "histogram2dcontour": [
           {
            "colorbar": {
             "outlinewidth": 0,
             "ticks": ""
            },
            "colorscale": [
             [
              0,
              "#0d0887"
             ],
             [
              0.1111111111111111,
              "#46039f"
             ],
             [
              0.2222222222222222,
              "#7201a8"
             ],
             [
              0.3333333333333333,
              "#9c179e"
             ],
             [
              0.4444444444444444,
              "#bd3786"
             ],
             [
              0.5555555555555556,
              "#d8576b"
             ],
             [
              0.6666666666666666,
              "#ed7953"
             ],
             [
              0.7777777777777778,
              "#fb9f3a"
             ],
             [
              0.8888888888888888,
              "#fdca26"
             ],
             [
              1,
              "#f0f921"
             ]
            ],
            "type": "histogram2dcontour"
           }
          ],
          "mesh3d": [
           {
            "colorbar": {
             "outlinewidth": 0,
             "ticks": ""
            },
            "type": "mesh3d"
           }
          ],
          "parcoords": [
           {
            "line": {
             "colorbar": {
              "outlinewidth": 0,
              "ticks": ""
             }
            },
            "type": "parcoords"
           }
          ],
          "pie": [
           {
            "automargin": true,
            "type": "pie"
           }
          ],
          "scatter": [
           {
            "fillpattern": {
             "fillmode": "overlay",
             "size": 10,
             "solidity": 0.2
            },
            "type": "scatter"
           }
          ],
          "scatter3d": [
           {
            "line": {
             "colorbar": {
              "outlinewidth": 0,
              "ticks": ""
             }
            },
            "marker": {
             "colorbar": {
              "outlinewidth": 0,
              "ticks": ""
             }
            },
            "type": "scatter3d"
           }
          ],
          "scattercarpet": [
           {
            "marker": {
             "colorbar": {
              "outlinewidth": 0,
              "ticks": ""
             }
            },
            "type": "scattercarpet"
           }
          ],
          "scattergeo": [
           {
            "marker": {
             "colorbar": {
              "outlinewidth": 0,
              "ticks": ""
             }
            },
            "type": "scattergeo"
           }
          ],
          "scattergl": [
           {
            "marker": {
             "colorbar": {
              "outlinewidth": 0,
              "ticks": ""
             }
            },
            "type": "scattergl"
           }
          ],
          "scattermapbox": [
           {
            "marker": {
             "colorbar": {
              "outlinewidth": 0,
              "ticks": ""
             }
            },
            "type": "scattermapbox"
           }
          ],
          "scatterpolar": [
           {
            "marker": {
             "colorbar": {
              "outlinewidth": 0,
              "ticks": ""
             }
            },
            "type": "scatterpolar"
           }
          ],
          "scatterpolargl": [
           {
            "marker": {
             "colorbar": {
              "outlinewidth": 0,
              "ticks": ""
             }
            },
            "type": "scatterpolargl"
           }
          ],
          "scatterternary": [
           {
            "marker": {
             "colorbar": {
              "outlinewidth": 0,
              "ticks": ""
             }
            },
            "type": "scatterternary"
           }
          ],
          "surface": [
           {
            "colorbar": {
             "outlinewidth": 0,
             "ticks": ""
            },
            "colorscale": [
             [
              0,
              "#0d0887"
             ],
             [
              0.1111111111111111,
              "#46039f"
             ],
             [
              0.2222222222222222,
              "#7201a8"
             ],
             [
              0.3333333333333333,
              "#9c179e"
             ],
             [
              0.4444444444444444,
              "#bd3786"
             ],
             [
              0.5555555555555556,
              "#d8576b"
             ],
             [
              0.6666666666666666,
              "#ed7953"
             ],
             [
              0.7777777777777778,
              "#fb9f3a"
             ],
             [
              0.8888888888888888,
              "#fdca26"
             ],
             [
              1,
              "#f0f921"
             ]
            ],
            "type": "surface"
           }
          ],
          "table": [
           {
            "cells": {
             "fill": {
              "color": "#EBF0F8"
             },
             "line": {
              "color": "white"
             }
            },
            "header": {
             "fill": {
              "color": "#C8D4E3"
             },
             "line": {
              "color": "white"
             }
            },
            "type": "table"
           }
          ]
         },
         "layout": {
          "annotationdefaults": {
           "arrowcolor": "#2a3f5f",
           "arrowhead": 0,
           "arrowwidth": 1
          },
          "autotypenumbers": "strict",
          "coloraxis": {
           "colorbar": {
            "outlinewidth": 0,
            "ticks": ""
           }
          },
          "colorscale": {
           "diverging": [
            [
             0,
             "#8e0152"
            ],
            [
             0.1,
             "#c51b7d"
            ],
            [
             0.2,
             "#de77ae"
            ],
            [
             0.3,
             "#f1b6da"
            ],
            [
             0.4,
             "#fde0ef"
            ],
            [
             0.5,
             "#f7f7f7"
            ],
            [
             0.6,
             "#e6f5d0"
            ],
            [
             0.7,
             "#b8e186"
            ],
            [
             0.8,
             "#7fbc41"
            ],
            [
             0.9,
             "#4d9221"
            ],
            [
             1,
             "#276419"
            ]
           ],
           "sequential": [
            [
             0,
             "#0d0887"
            ],
            [
             0.1111111111111111,
             "#46039f"
            ],
            [
             0.2222222222222222,
             "#7201a8"
            ],
            [
             0.3333333333333333,
             "#9c179e"
            ],
            [
             0.4444444444444444,
             "#bd3786"
            ],
            [
             0.5555555555555556,
             "#d8576b"
            ],
            [
             0.6666666666666666,
             "#ed7953"
            ],
            [
             0.7777777777777778,
             "#fb9f3a"
            ],
            [
             0.8888888888888888,
             "#fdca26"
            ],
            [
             1,
             "#f0f921"
            ]
           ],
           "sequentialminus": [
            [
             0,
             "#0d0887"
            ],
            [
             0.1111111111111111,
             "#46039f"
            ],
            [
             0.2222222222222222,
             "#7201a8"
            ],
            [
             0.3333333333333333,
             "#9c179e"
            ],
            [
             0.4444444444444444,
             "#bd3786"
            ],
            [
             0.5555555555555556,
             "#d8576b"
            ],
            [
             0.6666666666666666,
             "#ed7953"
            ],
            [
             0.7777777777777778,
             "#fb9f3a"
            ],
            [
             0.8888888888888888,
             "#fdca26"
            ],
            [
             1,
             "#f0f921"
            ]
           ]
          },
          "colorway": [
           "#636efa",
           "#EF553B",
           "#00cc96",
           "#ab63fa",
           "#FFA15A",
           "#19d3f3",
           "#FF6692",
           "#B6E880",
           "#FF97FF",
           "#FECB52"
          ],
          "font": {
           "color": "#2a3f5f"
          },
          "geo": {
           "bgcolor": "white",
           "lakecolor": "white",
           "landcolor": "#E5ECF6",
           "showlakes": true,
           "showland": true,
           "subunitcolor": "white"
          },
          "hoverlabel": {
           "align": "left"
          },
          "hovermode": "closest",
          "mapbox": {
           "style": "light"
          },
          "paper_bgcolor": "white",
          "plot_bgcolor": "#E5ECF6",
          "polar": {
           "angularaxis": {
            "gridcolor": "white",
            "linecolor": "white",
            "ticks": ""
           },
           "bgcolor": "#E5ECF6",
           "radialaxis": {
            "gridcolor": "white",
            "linecolor": "white",
            "ticks": ""
           }
          },
          "scene": {
           "xaxis": {
            "backgroundcolor": "#E5ECF6",
            "gridcolor": "white",
            "gridwidth": 2,
            "linecolor": "white",
            "showbackground": true,
            "ticks": "",
            "zerolinecolor": "white"
           },
           "yaxis": {
            "backgroundcolor": "#E5ECF6",
            "gridcolor": "white",
            "gridwidth": 2,
            "linecolor": "white",
            "showbackground": true,
            "ticks": "",
            "zerolinecolor": "white"
           },
           "zaxis": {
            "backgroundcolor": "#E5ECF6",
            "gridcolor": "white",
            "gridwidth": 2,
            "linecolor": "white",
            "showbackground": true,
            "ticks": "",
            "zerolinecolor": "white"
           }
          },
          "shapedefaults": {
           "line": {
            "color": "#2a3f5f"
           }
          },
          "ternary": {
           "aaxis": {
            "gridcolor": "white",
            "linecolor": "white",
            "ticks": ""
           },
           "baxis": {
            "gridcolor": "white",
            "linecolor": "white",
            "ticks": ""
           },
           "bgcolor": "#E5ECF6",
           "caxis": {
            "gridcolor": "white",
            "linecolor": "white",
            "ticks": ""
           }
          },
          "title": {
           "x": 0.05
          },
          "xaxis": {
           "automargin": true,
           "gridcolor": "white",
           "linecolor": "white",
           "ticks": "",
           "title": {
            "standoff": 15
           },
           "zerolinecolor": "white",
           "zerolinewidth": 2
          },
          "yaxis": {
           "automargin": true,
           "gridcolor": "white",
           "linecolor": "white",
           "ticks": "",
           "title": {
            "standoff": 15
           },
           "zerolinecolor": "white",
           "zerolinewidth": 2
          }
         }
        },
        "title": {
         "text": ""
        },
        "xaxis": {
         "anchor": "y",
         "domain": [
          0,
          1
         ],
         "title": {
          "text": "Number of draws until the number returns "
         }
        },
        "yaxis": {
         "anchor": "x",
         "domain": [
          0,
          1
         ],
         "title": {
          "text": "Frequency"
         }
        }
       }
      }
     },
     "metadata": {},
     "output_type": "display_data"
    },
    {
     "data": {
      "application/vnd.plotly.v1+json": {
       "config": {
        "plotlyServerURL": "https://plot.ly"
       },
       "data": [
        {
         "alignmentgroup": "True",
         "hovertemplate": "Number=%{x}<br>Drawn Frequency=%{y}<extra></extra>",
         "legendgroup": "",
         "marker": {
          "color": "#636efa",
          "pattern": {
           "shape": ""
          }
         },
         "name": "",
         "offsetgroup": "",
         "orientation": "v",
         "showlegend": false,
         "textposition": "auto",
         "type": "bar",
         "x": [
          1,
          2,
          3,
          4,
          5,
          6,
          7,
          8,
          9,
          10,
          11,
          12,
          13,
          17,
          14,
          15,
          19,
          16,
          21,
          18,
          20,
          22,
          23,
          28,
          30,
          24,
          31,
          42,
          26,
          29
         ],
         "xaxis": "x",
         "y": [
          245,
          197,
          151,
          126,
          88,
          85,
          69,
          45,
          34,
          33,
          28,
          17,
          10,
          8,
          8,
          8,
          8,
          5,
          4,
          3,
          2,
          2,
          1,
          1,
          1,
          1,
          1,
          1,
          1,
          1
         ],
         "yaxis": "y"
        }
       ],
       "layout": {
        "barmode": "relative",
        "font": {
         "color": "RebeccaPurple",
         "family": "Courier New, monospace",
         "size": 18
        },
        "legend": {
         "tracegroupgap": 0
        },
        "margin": {
         "t": 60
        },
        "template": {
         "data": {
          "bar": [
           {
            "error_x": {
             "color": "#2a3f5f"
            },
            "error_y": {
             "color": "#2a3f5f"
            },
            "marker": {
             "line": {
              "color": "#E5ECF6",
              "width": 0.5
             },
             "pattern": {
              "fillmode": "overlay",
              "size": 10,
              "solidity": 0.2
             }
            },
            "type": "bar"
           }
          ],
          "barpolar": [
           {
            "marker": {
             "line": {
              "color": "#E5ECF6",
              "width": 0.5
             },
             "pattern": {
              "fillmode": "overlay",
              "size": 10,
              "solidity": 0.2
             }
            },
            "type": "barpolar"
           }
          ],
          "carpet": [
           {
            "aaxis": {
             "endlinecolor": "#2a3f5f",
             "gridcolor": "white",
             "linecolor": "white",
             "minorgridcolor": "white",
             "startlinecolor": "#2a3f5f"
            },
            "baxis": {
             "endlinecolor": "#2a3f5f",
             "gridcolor": "white",
             "linecolor": "white",
             "minorgridcolor": "white",
             "startlinecolor": "#2a3f5f"
            },
            "type": "carpet"
           }
          ],
          "choropleth": [
           {
            "colorbar": {
             "outlinewidth": 0,
             "ticks": ""
            },
            "type": "choropleth"
           }
          ],
          "contour": [
           {
            "colorbar": {
             "outlinewidth": 0,
             "ticks": ""
            },
            "colorscale": [
             [
              0,
              "#0d0887"
             ],
             [
              0.1111111111111111,
              "#46039f"
             ],
             [
              0.2222222222222222,
              "#7201a8"
             ],
             [
              0.3333333333333333,
              "#9c179e"
             ],
             [
              0.4444444444444444,
              "#bd3786"
             ],
             [
              0.5555555555555556,
              "#d8576b"
             ],
             [
              0.6666666666666666,
              "#ed7953"
             ],
             [
              0.7777777777777778,
              "#fb9f3a"
             ],
             [
              0.8888888888888888,
              "#fdca26"
             ],
             [
              1,
              "#f0f921"
             ]
            ],
            "type": "contour"
           }
          ],
          "contourcarpet": [
           {
            "colorbar": {
             "outlinewidth": 0,
             "ticks": ""
            },
            "type": "contourcarpet"
           }
          ],
          "heatmap": [
           {
            "colorbar": {
             "outlinewidth": 0,
             "ticks": ""
            },
            "colorscale": [
             [
              0,
              "#0d0887"
             ],
             [
              0.1111111111111111,
              "#46039f"
             ],
             [
              0.2222222222222222,
              "#7201a8"
             ],
             [
              0.3333333333333333,
              "#9c179e"
             ],
             [
              0.4444444444444444,
              "#bd3786"
             ],
             [
              0.5555555555555556,
              "#d8576b"
             ],
             [
              0.6666666666666666,
              "#ed7953"
             ],
             [
              0.7777777777777778,
              "#fb9f3a"
             ],
             [
              0.8888888888888888,
              "#fdca26"
             ],
             [
              1,
              "#f0f921"
             ]
            ],
            "type": "heatmap"
           }
          ],
          "heatmapgl": [
           {
            "colorbar": {
             "outlinewidth": 0,
             "ticks": ""
            },
            "colorscale": [
             [
              0,
              "#0d0887"
             ],
             [
              0.1111111111111111,
              "#46039f"
             ],
             [
              0.2222222222222222,
              "#7201a8"
             ],
             [
              0.3333333333333333,
              "#9c179e"
             ],
             [
              0.4444444444444444,
              "#bd3786"
             ],
             [
              0.5555555555555556,
              "#d8576b"
             ],
             [
              0.6666666666666666,
              "#ed7953"
             ],
             [
              0.7777777777777778,
              "#fb9f3a"
             ],
             [
              0.8888888888888888,
              "#fdca26"
             ],
             [
              1,
              "#f0f921"
             ]
            ],
            "type": "heatmapgl"
           }
          ],
          "histogram": [
           {
            "marker": {
             "pattern": {
              "fillmode": "overlay",
              "size": 10,
              "solidity": 0.2
             }
            },
            "type": "histogram"
           }
          ],
          "histogram2d": [
           {
            "colorbar": {
             "outlinewidth": 0,
             "ticks": ""
            },
            "colorscale": [
             [
              0,
              "#0d0887"
             ],
             [
              0.1111111111111111,
              "#46039f"
             ],
             [
              0.2222222222222222,
              "#7201a8"
             ],
             [
              0.3333333333333333,
              "#9c179e"
             ],
             [
              0.4444444444444444,
              "#bd3786"
             ],
             [
              0.5555555555555556,
              "#d8576b"
             ],
             [
              0.6666666666666666,
              "#ed7953"
             ],
             [
              0.7777777777777778,
              "#fb9f3a"
             ],
             [
              0.8888888888888888,
              "#fdca26"
             ],
             [
              1,
              "#f0f921"
             ]
            ],
            "type": "histogram2d"
           }
          ],
          "histogram2dcontour": [
           {
            "colorbar": {
             "outlinewidth": 0,
             "ticks": ""
            },
            "colorscale": [
             [
              0,
              "#0d0887"
             ],
             [
              0.1111111111111111,
              "#46039f"
             ],
             [
              0.2222222222222222,
              "#7201a8"
             ],
             [
              0.3333333333333333,
              "#9c179e"
             ],
             [
              0.4444444444444444,
              "#bd3786"
             ],
             [
              0.5555555555555556,
              "#d8576b"
             ],
             [
              0.6666666666666666,
              "#ed7953"
             ],
             [
              0.7777777777777778,
              "#fb9f3a"
             ],
             [
              0.8888888888888888,
              "#fdca26"
             ],
             [
              1,
              "#f0f921"
             ]
            ],
            "type": "histogram2dcontour"
           }
          ],
          "mesh3d": [
           {
            "colorbar": {
             "outlinewidth": 0,
             "ticks": ""
            },
            "type": "mesh3d"
           }
          ],
          "parcoords": [
           {
            "line": {
             "colorbar": {
              "outlinewidth": 0,
              "ticks": ""
             }
            },
            "type": "parcoords"
           }
          ],
          "pie": [
           {
            "automargin": true,
            "type": "pie"
           }
          ],
          "scatter": [
           {
            "fillpattern": {
             "fillmode": "overlay",
             "size": 10,
             "solidity": 0.2
            },
            "type": "scatter"
           }
          ],
          "scatter3d": [
           {
            "line": {
             "colorbar": {
              "outlinewidth": 0,
              "ticks": ""
             }
            },
            "marker": {
             "colorbar": {
              "outlinewidth": 0,
              "ticks": ""
             }
            },
            "type": "scatter3d"
           }
          ],
          "scattercarpet": [
           {
            "marker": {
             "colorbar": {
              "outlinewidth": 0,
              "ticks": ""
             }
            },
            "type": "scattercarpet"
           }
          ],
          "scattergeo": [
           {
            "marker": {
             "colorbar": {
              "outlinewidth": 0,
              "ticks": ""
             }
            },
            "type": "scattergeo"
           }
          ],
          "scattergl": [
           {
            "marker": {
             "colorbar": {
              "outlinewidth": 0,
              "ticks": ""
             }
            },
            "type": "scattergl"
           }
          ],
          "scattermapbox": [
           {
            "marker": {
             "colorbar": {
              "outlinewidth": 0,
              "ticks": ""
             }
            },
            "type": "scattermapbox"
           }
          ],
          "scatterpolar": [
           {
            "marker": {
             "colorbar": {
              "outlinewidth": 0,
              "ticks": ""
             }
            },
            "type": "scatterpolar"
           }
          ],
          "scatterpolargl": [
           {
            "marker": {
             "colorbar": {
              "outlinewidth": 0,
              "ticks": ""
             }
            },
            "type": "scatterpolargl"
           }
          ],
          "scatterternary": [
           {
            "marker": {
             "colorbar": {
              "outlinewidth": 0,
              "ticks": ""
             }
            },
            "type": "scatterternary"
           }
          ],
          "surface": [
           {
            "colorbar": {
             "outlinewidth": 0,
             "ticks": ""
            },
            "colorscale": [
             [
              0,
              "#0d0887"
             ],
             [
              0.1111111111111111,
              "#46039f"
             ],
             [
              0.2222222222222222,
              "#7201a8"
             ],
             [
              0.3333333333333333,
              "#9c179e"
             ],
             [
              0.4444444444444444,
              "#bd3786"
             ],
             [
              0.5555555555555556,
              "#d8576b"
             ],
             [
              0.6666666666666666,
              "#ed7953"
             ],
             [
              0.7777777777777778,
              "#fb9f3a"
             ],
             [
              0.8888888888888888,
              "#fdca26"
             ],
             [
              1,
              "#f0f921"
             ]
            ],
            "type": "surface"
           }
          ],
          "table": [
           {
            "cells": {
             "fill": {
              "color": "#EBF0F8"
             },
             "line": {
              "color": "white"
             }
            },
            "header": {
             "fill": {
              "color": "#C8D4E3"
             },
             "line": {
              "color": "white"
             }
            },
            "type": "table"
           }
          ]
         },
         "layout": {
          "annotationdefaults": {
           "arrowcolor": "#2a3f5f",
           "arrowhead": 0,
           "arrowwidth": 1
          },
          "autotypenumbers": "strict",
          "coloraxis": {
           "colorbar": {
            "outlinewidth": 0,
            "ticks": ""
           }
          },
          "colorscale": {
           "diverging": [
            [
             0,
             "#8e0152"
            ],
            [
             0.1,
             "#c51b7d"
            ],
            [
             0.2,
             "#de77ae"
            ],
            [
             0.3,
             "#f1b6da"
            ],
            [
             0.4,
             "#fde0ef"
            ],
            [
             0.5,
             "#f7f7f7"
            ],
            [
             0.6,
             "#e6f5d0"
            ],
            [
             0.7,
             "#b8e186"
            ],
            [
             0.8,
             "#7fbc41"
            ],
            [
             0.9,
             "#4d9221"
            ],
            [
             1,
             "#276419"
            ]
           ],
           "sequential": [
            [
             0,
             "#0d0887"
            ],
            [
             0.1111111111111111,
             "#46039f"
            ],
            [
             0.2222222222222222,
             "#7201a8"
            ],
            [
             0.3333333333333333,
             "#9c179e"
            ],
            [
             0.4444444444444444,
             "#bd3786"
            ],
            [
             0.5555555555555556,
             "#d8576b"
            ],
            [
             0.6666666666666666,
             "#ed7953"
            ],
            [
             0.7777777777777778,
             "#fb9f3a"
            ],
            [
             0.8888888888888888,
             "#fdca26"
            ],
            [
             1,
             "#f0f921"
            ]
           ],
           "sequentialminus": [
            [
             0,
             "#0d0887"
            ],
            [
             0.1111111111111111,
             "#46039f"
            ],
            [
             0.2222222222222222,
             "#7201a8"
            ],
            [
             0.3333333333333333,
             "#9c179e"
            ],
            [
             0.4444444444444444,
             "#bd3786"
            ],
            [
             0.5555555555555556,
             "#d8576b"
            ],
            [
             0.6666666666666666,
             "#ed7953"
            ],
            [
             0.7777777777777778,
             "#fb9f3a"
            ],
            [
             0.8888888888888888,
             "#fdca26"
            ],
            [
             1,
             "#f0f921"
            ]
           ]
          },
          "colorway": [
           "#636efa",
           "#EF553B",
           "#00cc96",
           "#ab63fa",
           "#FFA15A",
           "#19d3f3",
           "#FF6692",
           "#B6E880",
           "#FF97FF",
           "#FECB52"
          ],
          "font": {
           "color": "#2a3f5f"
          },
          "geo": {
           "bgcolor": "white",
           "lakecolor": "white",
           "landcolor": "#E5ECF6",
           "showlakes": true,
           "showland": true,
           "subunitcolor": "white"
          },
          "hoverlabel": {
           "align": "left"
          },
          "hovermode": "closest",
          "mapbox": {
           "style": "light"
          },
          "paper_bgcolor": "white",
          "plot_bgcolor": "#E5ECF6",
          "polar": {
           "angularaxis": {
            "gridcolor": "white",
            "linecolor": "white",
            "ticks": ""
           },
           "bgcolor": "#E5ECF6",
           "radialaxis": {
            "gridcolor": "white",
            "linecolor": "white",
            "ticks": ""
           }
          },
          "scene": {
           "xaxis": {
            "backgroundcolor": "#E5ECF6",
            "gridcolor": "white",
            "gridwidth": 2,
            "linecolor": "white",
            "showbackground": true,
            "ticks": "",
            "zerolinecolor": "white"
           },
           "yaxis": {
            "backgroundcolor": "#E5ECF6",
            "gridcolor": "white",
            "gridwidth": 2,
            "linecolor": "white",
            "showbackground": true,
            "ticks": "",
            "zerolinecolor": "white"
           },
           "zaxis": {
            "backgroundcolor": "#E5ECF6",
            "gridcolor": "white",
            "gridwidth": 2,
            "linecolor": "white",
            "showbackground": true,
            "ticks": "",
            "zerolinecolor": "white"
           }
          },
          "shapedefaults": {
           "line": {
            "color": "#2a3f5f"
           }
          },
          "ternary": {
           "aaxis": {
            "gridcolor": "white",
            "linecolor": "white",
            "ticks": ""
           },
           "baxis": {
            "gridcolor": "white",
            "linecolor": "white",
            "ticks": ""
           },
           "bgcolor": "#E5ECF6",
           "caxis": {
            "gridcolor": "white",
            "linecolor": "white",
            "ticks": ""
           }
          },
          "title": {
           "x": 0.05
          },
          "xaxis": {
           "automargin": true,
           "gridcolor": "white",
           "linecolor": "white",
           "ticks": "",
           "title": {
            "standoff": 15
           },
           "zerolinecolor": "white",
           "zerolinewidth": 2
          },
          "yaxis": {
           "automargin": true,
           "gridcolor": "white",
           "linecolor": "white",
           "ticks": "",
           "title": {
            "standoff": 15
           },
           "zerolinecolor": "white",
           "zerolinewidth": 2
          }
         }
        },
        "title": {
         "text": ""
        },
        "xaxis": {
         "anchor": "y",
         "domain": [
          0,
          1
         ],
         "title": {
          "text": "Number of draws until the euro number returns "
         }
        },
        "yaxis": {
         "anchor": "x",
         "domain": [
          0,
          1
         ],
         "title": {
          "text": "Frequency"
         }
        }
       }
      }
     },
     "metadata": {},
     "output_type": "display_data"
    }
   ],
   "source": [
    "data = getData('online')\n",
    "# data = getData('from_file')\n",
    "\n",
    "########## RUN THIS SECTION IN TEST MODE ###########\n",
    "draw_before_test = 3\n",
    "test_value = data.tail(draw_before_test).head(1)\n",
    "data.drop(data.tail(draw_before_test).index,inplace=True)\n",
    "####################################################\n",
    "\n",
    "freq_numbers = frequencyNumber(data.loc[:,'N1':'N5'])\n",
    "freq_euro_numbers = frequencyNumber(data.loc[:,'E1':'E2'])\n",
    "# legend = {\"title\": \"Number Frequency\", \"x_label\": \"Number\", \"y_label\": \"Drawn Frequency\"}\n",
    "# plotBar(freq_numbers,'Number', 'Drawn Frequency', None, legend)\n",
    "# legend = {\"title\": \"Euro Number Frequency\", \"x_label\": \"Number\", \"y_label\": \"Drawn Frequency\"}\n",
    "# plotBar(freq_euro_numbers,'Number', 'Drawn Frequency', None, legend)\n",
    "\n",
    "top_numbers = topNumbers(data,'N1','N5',freq_numbers,50)\n",
    "top_euro_numbers = topNumbers(data,'E1','E2',freq_euro_numbers,12)\n",
    "# display(top_numbers.head(5).style.hide_index())\n",
    "# display(top_euro_numbers.head(5).style.hide_index())\n",
    "\n",
    "std_numbers = standardDeviation(data,'N1','N5')\n",
    "std_euro_numbers = standardDeviation(data,'E1','E2')\n",
    "# legend = {\"title\": \"\", \"x_label\": \"Sum of numbers in the draw\", \"y_label\": \"Drawn Frequency\"}\n",
    "# plotBar(std_numbers,'Sum of numbers', 'Frequency of sum', 'Std', legend)\n",
    "# legend = {\"title\": \"\", \"x_label\": \"Sum of euro numbers in the draw\", \"y_label\": \"Drawn Frequency\"}\n",
    "# plotBar(std_euro_numbers,'Sum of numbers', 'Frequency of sum', 'Std', legend)\n",
    "\n",
    "numbers_even_odds = numberEvenOdd(data,'N1','N5')\n",
    "euro_numbers_even_odds = numberEvenOdd(data,'E1','E2')\n",
    "# display(numbers_even_odds.style.hide_index())\n",
    "# display(euro_numbers_even_odds.style.hide_index())\n",
    "\n",
    "multiple_winning_numbers = multipleWins(data,'N1','N5')\n",
    "multiple_winning_euro_numbers = multipleWins(data,'E1','E2')\n",
    "# display(multiple_winning_numbers)\n",
    "# display(multiple_winning_euro_numbers.head(9).style.hide_index())\n",
    "\n",
    "differences_numbers = differencesNumbers(data,'N1','N5')\n",
    "freq_differences_numbers = frequencyNumber(differences_numbers)\n",
    "std_differences_numbers = standardDeviation(differences_numbers,'Frequency','Frequency')\n",
    "differences_euro_numbers = differencesNumbers(data,'E1','E2')\n",
    "freq_differences_euro_numbers = frequencyNumber(differences_euro_numbers)\n",
    "std_differences_euro_numbers = standardDeviation(differences_euro_numbers,'Frequency','Frequency')\n",
    "# legend = {\"title\": \"\", \"x_label\": \"The difference between numbers\", \"y_label\": \"Frequency\"}\n",
    "# plotBar(std_differences_numbers,'Sum of numbers', 'Frequency of sum', None, legend)\n",
    "# legend = {\"title\": \"\", \"x_label\": \"The difference between euro numbers\", \"y_label\": \"Frequency\"}\n",
    "# plotBar(std_differences_euro_numbers,'Sum of numbers', 'Frequency of sum', None, legend)\n",
    "\n",
    "redrawing_numbers = redrawingNumbers(data,'N1','N5')\n",
    "freq_redrawing_numbers = frequencyNumber(redrawing_numbers)\n",
    "std_redrawing_numbers = standardDeviation(freq_redrawing_numbers,'Drawn Frequency','Drawn Frequency')\n",
    "redrawing_euro_numbers = redrawingNumbers(data,'E1','E2')\n",
    "freq_redrawing_euro_numbers = frequencyNumber(redrawing_euro_numbers)\n",
    "std_redrawing_euro_numbers = standardDeviation(freq_redrawing_euro_numbers,'Drawn Frequency','Drawn Frequency')\n",
    "# legend = {\"title\": \"\", \"x_label\": \"Number of draws until the number returns \", \"y_label\": \"Frequency\"}\n",
    "# plotBar(freq_redrawing_numbers,'Number', 'Drawn Frequency', None, legend)\n",
    "# legend = {\"title\": \"\", \"x_label\": \"Number of draws until the euro number returns \", \"y_label\": \"Frequency\"}\n",
    "# plotBar(freq_redrawing_euro_numbers,'Number', 'Drawn Frequency', None, legend)\n"
   ]
  },
  {
   "attachments": {},
   "cell_type": "markdown",
   "metadata": {},
   "source": [
    "# Generate and test number"
   ]
  },
  {
   "cell_type": "code",
   "execution_count": 51,
   "metadata": {},
   "outputs": [
    {
     "name": "stderr",
     "output_type": "stream",
     "text": [
      "C:\\Users\\PC\\AppData\\Local\\Temp\\ipykernel_17876\\837735709.py:14: FutureWarning:\n",
      "\n",
      "Automatic reindexing on DataFrame vs Series comparisons is deprecated and will raise ValueError in a future version.  Do `left, right = left.align(right, axis=1, copy=False)` before e.g. `left == right`\n",
      "\n",
      "C:\\Users\\PC\\AppData\\Local\\Temp\\ipykernel_17876\\1791575532.py:20: FutureWarning:\n",
      "\n",
      "Automatic reindexing on DataFrame vs Series comparisons is deprecated and will raise ValueError in a future version.  Do `left, right = left.align(right, axis=1, copy=False)` before e.g. `left == right`\n",
      "\n"
     ]
    },
    {
     "data": {
      "text/html": [
       "<style type=\"text/css\">\n",
       "</style>\n",
       "<table id=\"T_62b8f_\">\n",
       "  <thead>\n",
       "    <tr>\n",
       "      <th class=\"col_heading level0 col0\" >Coupon price</th>\n",
       "      <th class=\"col_heading level0 col1\" >Total winnings</th>\n",
       "      <th class=\"col_heading level0 col2\" >Summary</th>\n",
       "    </tr>\n",
       "  </thead>\n",
       "  <tbody>\n",
       "    <tr>\n",
       "      <td id=\"T_62b8f_row0_col0\" class=\"data row0 col0\" >2000</td>\n",
       "      <td id=\"T_62b8f_row0_col1\" class=\"data row0 col1\" >287</td>\n",
       "      <td id=\"T_62b8f_row0_col2\" class=\"data row0 col2\" >-1712</td>\n",
       "    </tr>\n",
       "  </tbody>\n",
       "</table>\n"
      ],
      "text/plain": [
       "<pandas.io.formats.style.Styler at 0x1e028813e80>"
      ]
     },
     "metadata": {},
     "output_type": "display_data"
    },
    {
     "data": {
      "text/html": [
       "<style type=\"text/css\">\n",
       "</style>\n",
       "<table id=\"T_5a7f2_\">\n",
       "  <thead>\n",
       "    <tr>\n",
       "      <th class=\"col_heading level0 col0\" >Numbers</th>\n",
       "      <th class=\"col_heading level0 col1\" >Euro_numbers</th>\n",
       "      <th class=\"col_heading level0 col2\" >Hits</th>\n",
       "    </tr>\n",
       "  </thead>\n",
       "  <tbody>\n",
       "    <tr>\n",
       "      <td id=\"T_5a7f2_row0_col0\" class=\"data row0 col0\" >3</td>\n",
       "      <td id=\"T_5a7f2_row0_col1\" class=\"data row0 col1\" >1</td>\n",
       "      <td id=\"T_5a7f2_row0_col2\" class=\"data row0 col2\" >1</td>\n",
       "    </tr>\n",
       "    <tr>\n",
       "      <td id=\"T_5a7f2_row1_col0\" class=\"data row1 col0\" >4</td>\n",
       "      <td id=\"T_5a7f2_row1_col1\" class=\"data row1 col1\" >0</td>\n",
       "      <td id=\"T_5a7f2_row1_col2\" class=\"data row1 col2\" >1</td>\n",
       "    </tr>\n",
       "    <tr>\n",
       "      <td id=\"T_5a7f2_row2_col0\" class=\"data row2 col0\" >2</td>\n",
       "      <td id=\"T_5a7f2_row2_col1\" class=\"data row2 col1\" >1</td>\n",
       "      <td id=\"T_5a7f2_row2_col2\" class=\"data row2 col2\" >19</td>\n",
       "    </tr>\n",
       "    <tr>\n",
       "      <td id=\"T_5a7f2_row3_col0\" class=\"data row3 col0\" >2</td>\n",
       "      <td id=\"T_5a7f2_row3_col1\" class=\"data row3 col1\" >0</td>\n",
       "      <td id=\"T_5a7f2_row3_col2\" class=\"data row3 col2\" >42</td>\n",
       "    </tr>\n",
       "    <tr>\n",
       "      <td id=\"T_5a7f2_row4_col0\" class=\"data row4 col0\" >1</td>\n",
       "      <td id=\"T_5a7f2_row4_col1\" class=\"data row4 col1\" >1</td>\n",
       "      <td id=\"T_5a7f2_row4_col2\" class=\"data row4 col2\" >114</td>\n",
       "    </tr>\n",
       "    <tr>\n",
       "      <td id=\"T_5a7f2_row5_col0\" class=\"data row5 col0\" >0</td>\n",
       "      <td id=\"T_5a7f2_row5_col1\" class=\"data row5 col1\" >1</td>\n",
       "      <td id=\"T_5a7f2_row5_col2\" class=\"data row5 col2\" >170</td>\n",
       "    </tr>\n",
       "    <tr>\n",
       "      <td id=\"T_5a7f2_row6_col0\" class=\"data row6 col0\" >1</td>\n",
       "      <td id=\"T_5a7f2_row6_col1\" class=\"data row6 col1\" >0</td>\n",
       "      <td id=\"T_5a7f2_row6_col2\" class=\"data row6 col2\" >241</td>\n",
       "    </tr>\n",
       "    <tr>\n",
       "      <td id=\"T_5a7f2_row7_col0\" class=\"data row7 col0\" >0</td>\n",
       "      <td id=\"T_5a7f2_row7_col1\" class=\"data row7 col1\" >0</td>\n",
       "      <td id=\"T_5a7f2_row7_col2\" class=\"data row7 col2\" >412</td>\n",
       "    </tr>\n",
       "  </tbody>\n",
       "</table>\n"
      ],
      "text/plain": [
       "<pandas.io.formats.style.Styler at 0x1e02880afa0>"
      ]
     },
     "metadata": {},
     "output_type": "display_data"
    }
   ],
   "source": [
    "numbers_5 = randomStatisticalGenerator(data,'N1','N5',top_numbers,std_differences_numbers,numbers_even_odds,1000,5,0,1)\n",
    "numbers_2 = randomStatisticalGenerator(data,'E1','E2',top_euro_numbers,std_differences_euro_numbers,euro_numbers_even_odds,1000,2,0,1)\n",
    "\n",
    "winning_5 = testGenerated(numbers_5,test_value,'N1','N5')\n",
    "winning_2 = testGenerated(numbers_2,test_value,'E1','E2')\n",
    "\n",
    "summary, num_tickets = averagePrize(winning_5,winning_2)\n",
    "\n",
    "display(summary.style.hide_index())\n",
    "display(num_tickets.style.hide_index())\n"
   ]
  },
  {
   "cell_type": "code",
   "execution_count": 18,
   "metadata": {},
   "outputs": [
    {
     "name": "stderr",
     "output_type": "stream",
     "text": [
      "C:\\Users\\PC\\AppData\\Local\\Temp\\ipykernel_17876\\2838401831.py:20: FutureWarning:\n",
      "\n",
      "Automatic reindexing on DataFrame vs Series comparisons is deprecated and will raise ValueError in a future version.  Do `left, right = left.align(right, axis=1, copy=False)` before e.g. `left == right`\n",
      "\n"
     ]
    }
   ],
   "source": [
    "numbers_5 = randomGenerator(5, 50, 1000)\n",
    "numbers_2 = randomGenerator(2, 12, 1000)\n",
    "\n",
    "winning_5 = testGenerated(numbers_5,test_value,'N1','N5')\n",
    "winning_2 = testGenerated(numbers_2,test_value,'E1','E2')\n",
    "\n",
    "summary, num_tickets = averagePrize(winning_5,winning_2)"
   ]
  }
 ],
 "metadata": {
  "kernelspec": {
   "display_name": "Python 3.9.2 64-bit ('env': venv)",
   "language": "python",
   "name": "python3"
  },
  "language_info": {
   "codemirror_mode": {
    "name": "ipython",
    "version": 3
   },
   "file_extension": ".py",
   "mimetype": "text/x-python",
   "name": "python",
   "nbconvert_exporter": "python",
   "pygments_lexer": "ipython3",
   "version": "3.9.2"
  },
  "orig_nbformat": 4,
  "vscode": {
   "interpreter": {
    "hash": "aadb3894289de65753ded94d615f2ab6551331e41c01c78d1491e73b4b8c6f50"
   }
  }
 },
 "nbformat": 4,
 "nbformat_minor": 2
}
